{
 "cells": [
  {
   "cell_type": "markdown",
   "metadata": {},
   "source": [
    "# 1. Exploratory Data Analysis (EDA)\n",
    "\n"
   ]
  },
  {
   "cell_type": "markdown",
   "metadata": {},
   "source": [
    "## <font color='darkblue'>Traffic Volume Dataset</font> "
   ]
  },
  {
   "cell_type": "code",
   "execution_count": 1,
   "metadata": {},
   "outputs": [],
   "source": [
    "import numpy as np\n",
    "import pandas as pd\n",
    "import sklearn\n",
    "from datetime import datetime, timedelta\n",
    "import matplotlib.pyplot as plt"
   ]
  },
  {
   "cell_type": "code",
   "execution_count": 2,
   "metadata": {},
   "outputs": [
    {
     "data": {
      "text/html": [
       "<div>\n",
       "<style scoped>\n",
       "    .dataframe tbody tr th:only-of-type {\n",
       "        vertical-align: middle;\n",
       "    }\n",
       "\n",
       "    .dataframe tbody tr th {\n",
       "        vertical-align: top;\n",
       "    }\n",
       "\n",
       "    .dataframe thead th {\n",
       "        text-align: right;\n",
       "    }\n",
       "</style>\n",
       "<table border=\"1\" class=\"dataframe\">\n",
       "  <thead>\n",
       "    <tr style=\"text-align: right;\">\n",
       "      <th></th>\n",
       "      <th>holiday</th>\n",
       "      <th>temp</th>\n",
       "      <th>rain_1h</th>\n",
       "      <th>snow_1h</th>\n",
       "      <th>clouds_all</th>\n",
       "      <th>weather_main</th>\n",
       "      <th>weather_description</th>\n",
       "      <th>date_time</th>\n",
       "      <th>traffic_volume</th>\n",
       "    </tr>\n",
       "  </thead>\n",
       "  <tbody>\n",
       "    <tr>\n",
       "      <th>0</th>\n",
       "      <td>New Years Day</td>\n",
       "      <td>263.49</td>\n",
       "      <td>0.0</td>\n",
       "      <td>0</td>\n",
       "      <td>58</td>\n",
       "      <td>Clouds</td>\n",
       "      <td>broken clouds</td>\n",
       "      <td>2013-01-01 00:00:00</td>\n",
       "      <td>1439</td>\n",
       "    </tr>\n",
       "    <tr>\n",
       "      <th>1</th>\n",
       "      <td>None</td>\n",
       "      <td>263.78</td>\n",
       "      <td>0.0</td>\n",
       "      <td>0</td>\n",
       "      <td>40</td>\n",
       "      <td>Clouds</td>\n",
       "      <td>scattered clouds</td>\n",
       "      <td>2013-01-01 01:00:00</td>\n",
       "      <td>1502</td>\n",
       "    </tr>\n",
       "    <tr>\n",
       "      <th>2</th>\n",
       "      <td>None</td>\n",
       "      <td>264.16</td>\n",
       "      <td>0.0</td>\n",
       "      <td>0</td>\n",
       "      <td>75</td>\n",
       "      <td>Snow</td>\n",
       "      <td>heavy snow</td>\n",
       "      <td>2013-01-01 02:00:00</td>\n",
       "      <td>933</td>\n",
       "    </tr>\n",
       "    <tr>\n",
       "      <th>3</th>\n",
       "      <td>None</td>\n",
       "      <td>263.95</td>\n",
       "      <td>0.0</td>\n",
       "      <td>0</td>\n",
       "      <td>90</td>\n",
       "      <td>Clouds</td>\n",
       "      <td>overcast clouds</td>\n",
       "      <td>2013-01-01 03:00:00</td>\n",
       "      <td>576</td>\n",
       "    </tr>\n",
       "    <tr>\n",
       "      <th>4</th>\n",
       "      <td>None</td>\n",
       "      <td>263.65</td>\n",
       "      <td>0.0</td>\n",
       "      <td>0</td>\n",
       "      <td>90</td>\n",
       "      <td>Clouds</td>\n",
       "      <td>overcast clouds</td>\n",
       "      <td>2013-01-01 04:00:00</td>\n",
       "      <td>372</td>\n",
       "    </tr>\n",
       "  </tbody>\n",
       "</table>\n",
       "</div>"
      ],
      "text/plain": [
       "         holiday    temp  rain_1h  snow_1h  clouds_all weather_main  \\\n",
       "0  New Years Day  263.49      0.0        0          58       Clouds   \n",
       "1           None  263.78      0.0        0          40       Clouds   \n",
       "2           None  264.16      0.0        0          75         Snow   \n",
       "3           None  263.95      0.0        0          90       Clouds   \n",
       "4           None  263.65      0.0        0          90       Clouds   \n",
       "\n",
       "  weather_description            date_time  traffic_volume  \n",
       "0       broken clouds  2013-01-01 00:00:00            1439  \n",
       "1    scattered clouds  2013-01-01 01:00:00            1502  \n",
       "2          heavy snow  2013-01-01 02:00:00             933  \n",
       "3     overcast clouds  2013-01-01 03:00:00             576  \n",
       "4     overcast clouds  2013-01-01 04:00:00             372  "
      ]
     },
     "execution_count": 2,
     "metadata": {},
     "output_type": "execute_result"
    }
   ],
   "source": [
    "df = pd.read_csv('https://aisgaiap.blob.core.windows.net/aiap5-assessment-data/traffic_data.csv')\n",
    "df.head()"
   ]
  },
  {
   "cell_type": "code",
   "execution_count": 3,
   "metadata": {},
   "outputs": [
    {
     "name": "stdout",
     "output_type": "stream",
     "text": [
      "<class 'pandas.core.frame.DataFrame'>\n",
      "RangeIndex: 8573 entries, 0 to 8572\n",
      "Data columns (total 9 columns):\n",
      "holiday                8573 non-null object\n",
      "temp                   8573 non-null float64\n",
      "rain_1h                8573 non-null float64\n",
      "snow_1h                8573 non-null int64\n",
      "clouds_all             8573 non-null int64\n",
      "weather_main           8573 non-null object\n",
      "weather_description    8573 non-null object\n",
      "date_time              8573 non-null object\n",
      "traffic_volume         8573 non-null int64\n",
      "dtypes: float64(2), int64(3), object(4)\n",
      "memory usage: 602.9+ KB\n"
     ]
    }
   ],
   "source": [
    "df.info()"
   ]
  },
  {
   "cell_type": "markdown",
   "metadata": {},
   "source": [
    "* No missing value in the dataset. \n",
    "* There are 4 features of type object and 4 of type numeric."
   ]
  },
  {
   "cell_type": "markdown",
   "metadata": {},
   "source": [
    "## <font color='darkblue'>1.1 Analysis on Numerical Features</font>"
   ]
  },
  {
   "cell_type": "code",
   "execution_count": 4,
   "metadata": {},
   "outputs": [
    {
     "data": {
      "text/html": [
       "<div>\n",
       "<style scoped>\n",
       "    .dataframe tbody tr th:only-of-type {\n",
       "        vertical-align: middle;\n",
       "    }\n",
       "\n",
       "    .dataframe tbody tr th {\n",
       "        vertical-align: top;\n",
       "    }\n",
       "\n",
       "    .dataframe thead th {\n",
       "        text-align: right;\n",
       "    }\n",
       "</style>\n",
       "<table border=\"1\" class=\"dataframe\">\n",
       "  <thead>\n",
       "    <tr style=\"text-align: right;\">\n",
       "      <th></th>\n",
       "      <th>temp</th>\n",
       "      <th>rain_1h</th>\n",
       "      <th>snow_1h</th>\n",
       "      <th>clouds_all</th>\n",
       "      <th>traffic_volume</th>\n",
       "    </tr>\n",
       "  </thead>\n",
       "  <tbody>\n",
       "    <tr>\n",
       "      <th>count</th>\n",
       "      <td>8573.000000</td>\n",
       "      <td>8573.000000</td>\n",
       "      <td>8573.0</td>\n",
       "      <td>8573.000000</td>\n",
       "      <td>8573.000000</td>\n",
       "    </tr>\n",
       "    <tr>\n",
       "      <th>mean</th>\n",
       "      <td>278.976352</td>\n",
       "      <td>0.161284</td>\n",
       "      <td>0.0</td>\n",
       "      <td>52.560947</td>\n",
       "      <td>3286.762160</td>\n",
       "    </tr>\n",
       "    <tr>\n",
       "      <th>std</th>\n",
       "      <td>13.322459</td>\n",
       "      <td>1.439626</td>\n",
       "      <td>0.0</td>\n",
       "      <td>37.470062</td>\n",
       "      <td>2028.322769</td>\n",
       "    </tr>\n",
       "    <tr>\n",
       "      <th>min</th>\n",
       "      <td>244.820000</td>\n",
       "      <td>0.000000</td>\n",
       "      <td>0.0</td>\n",
       "      <td>0.000000</td>\n",
       "      <td>164.000000</td>\n",
       "    </tr>\n",
       "    <tr>\n",
       "      <th>25%</th>\n",
       "      <td>269.460000</td>\n",
       "      <td>0.000000</td>\n",
       "      <td>0.0</td>\n",
       "      <td>1.000000</td>\n",
       "      <td>1193.000000</td>\n",
       "    </tr>\n",
       "    <tr>\n",
       "      <th>50%</th>\n",
       "      <td>277.330000</td>\n",
       "      <td>0.000000</td>\n",
       "      <td>0.0</td>\n",
       "      <td>64.000000</td>\n",
       "      <td>3344.000000</td>\n",
       "    </tr>\n",
       "    <tr>\n",
       "      <th>75%</th>\n",
       "      <td>290.400000</td>\n",
       "      <td>0.000000</td>\n",
       "      <td>0.0</td>\n",
       "      <td>90.000000</td>\n",
       "      <td>5001.000000</td>\n",
       "    </tr>\n",
       "    <tr>\n",
       "      <th>max</th>\n",
       "      <td>308.240000</td>\n",
       "      <td>55.630000</td>\n",
       "      <td>0.0</td>\n",
       "      <td>100.000000</td>\n",
       "      <td>7217.000000</td>\n",
       "    </tr>\n",
       "  </tbody>\n",
       "</table>\n",
       "</div>"
      ],
      "text/plain": [
       "              temp      rain_1h  snow_1h   clouds_all  traffic_volume\n",
       "count  8573.000000  8573.000000   8573.0  8573.000000     8573.000000\n",
       "mean    278.976352     0.161284      0.0    52.560947     3286.762160\n",
       "std      13.322459     1.439626      0.0    37.470062     2028.322769\n",
       "min     244.820000     0.000000      0.0     0.000000      164.000000\n",
       "25%     269.460000     0.000000      0.0     1.000000     1193.000000\n",
       "50%     277.330000     0.000000      0.0    64.000000     3344.000000\n",
       "75%     290.400000     0.000000      0.0    90.000000     5001.000000\n",
       "max     308.240000    55.630000      0.0   100.000000     7217.000000"
      ]
     },
     "execution_count": 4,
     "metadata": {},
     "output_type": "execute_result"
    }
   ],
   "source": [
    "df.describe()"
   ]
  },
  {
   "cell_type": "markdown",
   "metadata": {},
   "source": [
    "* snow_1h takes zero values only, indicating zero occurrence of snowing.\n",
    "* snow_1h column can be dropped since the variance is zero and thus will not improve the performance of the model"
   ]
  },
  {
   "cell_type": "code",
   "execution_count": 5,
   "metadata": {},
   "outputs": [
    {
     "data": {
      "text/html": [
       "<div>\n",
       "<style scoped>\n",
       "    .dataframe tbody tr th:only-of-type {\n",
       "        vertical-align: middle;\n",
       "    }\n",
       "\n",
       "    .dataframe tbody tr th {\n",
       "        vertical-align: top;\n",
       "    }\n",
       "\n",
       "    .dataframe thead th {\n",
       "        text-align: right;\n",
       "    }\n",
       "</style>\n",
       "<table border=\"1\" class=\"dataframe\">\n",
       "  <thead>\n",
       "    <tr style=\"text-align: right;\">\n",
       "      <th></th>\n",
       "      <th>temp</th>\n",
       "      <th>rain_1h</th>\n",
       "      <th>snow_1h</th>\n",
       "      <th>clouds_all</th>\n",
       "      <th>traffic_volume</th>\n",
       "    </tr>\n",
       "  </thead>\n",
       "  <tbody>\n",
       "    <tr>\n",
       "      <th>temp</th>\n",
       "      <td>1.000000</td>\n",
       "      <td>0.072393</td>\n",
       "      <td>NaN</td>\n",
       "      <td>-0.229801</td>\n",
       "      <td>0.152234</td>\n",
       "    </tr>\n",
       "    <tr>\n",
       "      <th>rain_1h</th>\n",
       "      <td>0.072393</td>\n",
       "      <td>1.000000</td>\n",
       "      <td>NaN</td>\n",
       "      <td>0.037649</td>\n",
       "      <td>-0.032439</td>\n",
       "    </tr>\n",
       "    <tr>\n",
       "      <th>snow_1h</th>\n",
       "      <td>NaN</td>\n",
       "      <td>NaN</td>\n",
       "      <td>NaN</td>\n",
       "      <td>NaN</td>\n",
       "      <td>NaN</td>\n",
       "    </tr>\n",
       "    <tr>\n",
       "      <th>clouds_all</th>\n",
       "      <td>-0.229801</td>\n",
       "      <td>0.037649</td>\n",
       "      <td>NaN</td>\n",
       "      <td>1.000000</td>\n",
       "      <td>-0.002702</td>\n",
       "    </tr>\n",
       "    <tr>\n",
       "      <th>traffic_volume</th>\n",
       "      <td>0.152234</td>\n",
       "      <td>-0.032439</td>\n",
       "      <td>NaN</td>\n",
       "      <td>-0.002702</td>\n",
       "      <td>1.000000</td>\n",
       "    </tr>\n",
       "  </tbody>\n",
       "</table>\n",
       "</div>"
      ],
      "text/plain": [
       "                    temp   rain_1h  snow_1h  clouds_all  traffic_volume\n",
       "temp            1.000000  0.072393      NaN   -0.229801        0.152234\n",
       "rain_1h         0.072393  1.000000      NaN    0.037649       -0.032439\n",
       "snow_1h              NaN       NaN      NaN         NaN             NaN\n",
       "clouds_all     -0.229801  0.037649      NaN    1.000000       -0.002702\n",
       "traffic_volume  0.152234 -0.032439      NaN   -0.002702        1.000000"
      ]
     },
     "execution_count": 5,
     "metadata": {},
     "output_type": "execute_result"
    }
   ],
   "source": [
    "df.corr()"
   ]
  },
  {
   "cell_type": "markdown",
   "metadata": {},
   "source": [
    "* Each feature has very low correlation with the output variable traffic_volume\n",
    "* Correlation between features is very low as well."
   ]
  },
  {
   "cell_type": "code",
   "execution_count": 6,
   "metadata": {},
   "outputs": [
    {
     "data": {
      "text/plain": [
       "0.00     0.926047\n",
       "0.25     0.024029\n",
       "0.51     0.005832\n",
       "0.38     0.004433\n",
       "0.76     0.002799\n",
       "           ...   \n",
       "1.13     0.000117\n",
       "1.07     0.000117\n",
       "0.32     0.000117\n",
       "44.45    0.000117\n",
       "55.63    0.000117\n",
       "Name: rain_1h, Length: 98, dtype: float64"
      ]
     },
     "execution_count": 6,
     "metadata": {},
     "output_type": "execute_result"
    }
   ],
   "source": [
    "df['rain_1h'].value_counts(normalize=True)"
   ]
  },
  {
   "cell_type": "markdown",
   "metadata": {},
   "source": [
    "* More than 90% of the observations take values of 0.\n",
    "* Convert continuous variable into discrete variables taking values of 0 or 1 only (set value to 1 if rain amount > 0mm)"
   ]
  },
  {
   "cell_type": "code",
   "execution_count": 7,
   "metadata": {},
   "outputs": [
    {
     "data": {
      "image/png": "[encoded data removed]",
      "text/plain": [
       "<Figure size 432x288 with 1 Axes>"
      ]
     },
     "metadata": {
      "needs_background": "light"
     },
     "output_type": "display_data"
    }
   ],
   "source": [
    "df.hist(column='clouds_all')\n",
    "plt.show()"
   ]
  },
  {
   "cell_type": "markdown",
   "metadata": {},
   "source": [
    "* From the histogram plot, it is observed that the feature clouds_all can be converted from continuous to a discrete variable\n",
    "* Binning can be performed on clouds_all feature."
   ]
  },
  {
   "cell_type": "code",
   "execution_count": 8,
   "metadata": {},
   "outputs": [
    {
     "data": {
      "image/png": "[encoded data removed]",
      "text/plain": [
       "<Figure size 720x432 with 1 Axes>"
      ]
     },
     "metadata": {
      "needs_background": "light"
     },
     "output_type": "display_data"
    }
   ],
   "source": [
    "fig, ax = plt.subplots(figsize=(10,6))\n",
    "ax.scatter(df['temp'], df['traffic_volume'])\n",
    "ax.set_xlabel('temp')\n",
    "ax.set_ylabel('Traffic Volume')\n",
    "plt.show()"
   ]
  },
  {
   "cell_type": "markdown",
   "metadata": {},
   "source": [
    "* From the scatter plot, temp is weakly correlated with the output variable\n",
    "* Drop temp column "
   ]
  },
  {
   "cell_type": "markdown",
   "metadata": {},
   "source": [
    "## <font color='darkblue'>1.2 Analysis on Features of type Object</font>"
   ]
  },
  {
   "cell_type": "code",
   "execution_count": 9,
   "metadata": {},
   "outputs": [
    {
     "data": {
      "text/html": [
       "<div>\n",
       "<style scoped>\n",
       "    .dataframe tbody tr th:only-of-type {\n",
       "        vertical-align: middle;\n",
       "    }\n",
       "\n",
       "    .dataframe tbody tr th {\n",
       "        vertical-align: top;\n",
       "    }\n",
       "\n",
       "    .dataframe thead th {\n",
       "        text-align: right;\n",
       "    }\n",
       "</style>\n",
       "<table border=\"1\" class=\"dataframe\">\n",
       "  <thead>\n",
       "    <tr style=\"text-align: right;\">\n",
       "      <th></th>\n",
       "      <th>holiday</th>\n",
       "      <th>weather_main</th>\n",
       "      <th>weather_description</th>\n",
       "      <th>date_time</th>\n",
       "    </tr>\n",
       "  </thead>\n",
       "  <tbody>\n",
       "    <tr>\n",
       "      <th>count</th>\n",
       "      <td>8573</td>\n",
       "      <td>8573</td>\n",
       "      <td>8573</td>\n",
       "      <td>8573</td>\n",
       "    </tr>\n",
       "    <tr>\n",
       "      <th>unique</th>\n",
       "      <td>11</td>\n",
       "      <td>10</td>\n",
       "      <td>33</td>\n",
       "      <td>7294</td>\n",
       "    </tr>\n",
       "    <tr>\n",
       "      <th>top</th>\n",
       "      <td>None</td>\n",
       "      <td>Clouds</td>\n",
       "      <td>sky is clear</td>\n",
       "      <td>2013-05-19 10:00:00</td>\n",
       "    </tr>\n",
       "    <tr>\n",
       "      <th>freq</th>\n",
       "      <td>8563</td>\n",
       "      <td>3136</td>\n",
       "      <td>1494</td>\n",
       "      <td>6</td>\n",
       "    </tr>\n",
       "  </tbody>\n",
       "</table>\n",
       "</div>"
      ],
      "text/plain": [
       "       holiday weather_main weather_description            date_time\n",
       "count     8573         8573                8573                 8573\n",
       "unique      11           10                  33                 7294\n",
       "top       None       Clouds        sky is clear  2013-05-19 10:00:00\n",
       "freq      8563         3136                1494                    6"
      ]
     },
     "execution_count": 9,
     "metadata": {},
     "output_type": "execute_result"
    }
   ],
   "source": [
    "df.describe(include=['object', 'bool'])"
   ]
  },
  {
   "cell_type": "code",
   "execution_count": 10,
   "metadata": {},
   "outputs": [
    {
     "name": "stdout",
     "output_type": "stream",
     "text": [
      "     holiday    temp  rain_1h  snow_1h  clouds_all weather_main  \\\n",
      "40      None  261.61     0.00        0          90         Mist   \n",
      "42      None  262.18     0.00        0          90         Haze   \n",
      "44      None  262.54     0.00        0          90         Haze   \n",
      "58      None  263.93     0.00        0          90         Mist   \n",
      "59      None  263.93     0.00        0          90          Fog   \n",
      "...      ...     ...      ...      ...         ...          ...   \n",
      "8499    None  266.70     0.00        0          64         Snow   \n",
      "8532    None  251.11     0.00        0          90         Haze   \n",
      "8534    None  253.34     0.00        0          90         Haze   \n",
      "8540    None  256.01     0.76        0          90         Snow   \n",
      "8542    None  255.81     0.25        0          90         Snow   \n",
      "\n",
      "     weather_description            date_time  traffic_volume  \n",
      "40                  mist  2013-01-02 15:00:00            4836  \n",
      "42                  haze  2013-01-02 16:00:00            5597  \n",
      "44                  haze  2013-01-02 17:00:00            5191  \n",
      "58                  mist  2013-01-03 09:00:00            4768  \n",
      "59                   fog  2013-01-03 09:00:00            4768  \n",
      "...                  ...                  ...             ...  \n",
      "8499          light snow  2013-12-29 00:00:00            1057  \n",
      "8532                haze  2013-12-30 09:00:00            3792  \n",
      "8534                haze  2013-12-30 10:00:00            3793  \n",
      "8540          light snow  2013-12-30 15:00:00            4233  \n",
      "8542          light snow  2013-12-30 16:00:00            3938  \n",
      "\n",
      "[1279 rows x 9 columns]\n"
     ]
    }
   ],
   "source": [
    "duplicateRowsDF = df[df.duplicated(['date_time'])]\n",
    "print(duplicateRowsDF)"
   ]
  },
  {
   "cell_type": "markdown",
   "metadata": {},
   "source": [
    "* It is observed that the count and unique statistics for date_time feature is not equal (8573 != 7294), indicating that there are duplicated records.\n",
    "* It is also observed that weather_description has little/no impact on the output variable.\n",
    "\n",
    "* weather_description column can be dropped. Weather_main, being less detailed than weather_description, can be dropped as well.\n",
    "* Duplicated rows of date_time records can be dropped since the existence of the daily seasonality trend is highly probable."
   ]
  },
  {
   "cell_type": "markdown",
   "metadata": {},
   "source": [
    "### Exploring seasonality trend"
   ]
  },
  {
   "cell_type": "code",
   "execution_count": 11,
   "metadata": {},
   "outputs": [],
   "source": [
    "time = df['date_time'].apply(lambda x: x.split(' ')[1].split(':')[0])\n",
    "num_hourly_intervals = len(time.unique())\n",
    "df[\"date_time\"] = df[\"date_time\"].str.split().str[1]\n",
    "\n"
   ]
  },
  {
   "cell_type": "code",
   "execution_count": 12,
   "metadata": {},
   "outputs": [
    {
     "data": {
      "image/png": "[encoded data removed]",
      "text/plain": [
       "<Figure size 864x360 with 1 Axes>"
      ]
     },
     "metadata": {
      "needs_background": "light"
     },
     "output_type": "display_data"
    }
   ],
   "source": [
    "hourly_time = [timedelta(minutes=60*x) for x in range(0, num_hourly_intervals)]\n",
    "mean_traffic_data = df[['date_time', 'traffic_volume']]\n",
    "mean_traffic_data = mean_traffic_data.groupby('date_time', as_index=False).mean()\n",
    "\n",
    "plt.figure(figsize=(12,5))\n",
    "plt.title('Mean Hourly Traffic Volume for Year 2013')\n",
    "plt.xlabel('Time(Hourly)')\n",
    "plt.ylabel('Frequency')\n",
    "plt.bar(mean_traffic_data['date_time'], mean_traffic_data['traffic_volume'])\n",
    "plt.xticks(np.arange(num_hourly_intervals), hourly_time, rotation='vertical')\n",
    "plt.show(block=False)\n"
   ]
  },
  {
   "cell_type": "markdown",
   "metadata": {},
   "source": [
    "* From the plot above, it is observed that there is daily seasonality trend.\n",
    "* To extract the hour of a timestamp into a new column during the feature engineering phase"
   ]
  },
  {
   "cell_type": "code",
   "execution_count": 13,
   "metadata": {},
   "outputs": [],
   "source": [
    "df1 = pd.read_csv('https://aisgaiap.blob.core.windows.net/aiap5-assessment-data/traffic_data.csv', \n",
    "                  usecols = [\"date_time\", \"traffic_volume\"])"
   ]
  },
  {
   "cell_type": "code",
   "execution_count": 14,
   "metadata": {},
   "outputs": [],
   "source": [
    "days_mapping = {0:'Mon', 1:'Tues', 2:'Wed', 3:'Thurs', 4:'Fri', 5:'Sat', 6:'Sun'}\n",
    "def getDayOfWeek(date):\n",
    "    int_day = datetime.strptime(date, '%Y %m %d').weekday()\n",
    "    return (days_mapping[int_day])"
   ]
  },
  {
   "cell_type": "code",
   "execution_count": 15,
   "metadata": {},
   "outputs": [],
   "source": [
    "date = df1['date_time'].apply(lambda x: x.split(' ')[0].replace('-',' '))\n",
    "day_of_week = date.apply(lambda x: getDayOfWeek(x))\n",
    "days_week_count = len(day_of_week.unique())\n",
    "#df1[\"date_time\"] = df1[\"date_time\"].str.split().str[0].apply(lambda x: x.replace('-',' '))\n",
    "#df1[\"date_time\"] = df1['date_time'].apply(lambda x: getDayOfWeek(x))\n",
    "df1[\"date_time\"] = day_of_week"
   ]
  },
  {
   "cell_type": "code",
   "execution_count": 16,
   "metadata": {},
   "outputs": [
    {
     "data": {
      "image/png": "[encoded data removed]",
      "text/plain": [
       "<Figure size 504x360 with 1 Axes>"
      ]
     },
     "metadata": {
      "needs_background": "light"
     },
     "output_type": "display_data"
    }
   ],
   "source": [
    "day_labels = list(days_mapping.values())\n",
    "mean_traffic_data_weekly = df1[['date_time', 'traffic_volume']]\n",
    "mean_traffic_data_weekly = mean_traffic_data_weekly.groupby('date_time', as_index=False).mean()\n",
    "\n",
    "plt.figure(figsize=(7,5))\n",
    "plt.title('Mean Hourly Traffic Volume for Year 2013')\n",
    "plt.xlabel('Day of Week')\n",
    "plt.ylabel('Frequency')\n",
    "plt.bar(mean_traffic_data_weekly['date_time'], mean_traffic_data_weekly['traffic_volume'])\n",
    "plt.xticks(np.arange(days_week_count), day_labels, rotation='vertical')\n",
    "plt.show(block=False)\n"
   ]
  },
  {
   "cell_type": "markdown",
   "metadata": {},
   "source": [
    "* From the plot above, it is observed that there is weekly seasonality trend.\n",
    "* To extract the day of week of a timestamp into a new column during the feature engineering phase"
   ]
  }
 ],
 "metadata": {
  "kernelspec": {
   "display_name": "Python 3",
   "language": "python",
   "name": "python3"
  },
  "language_info": {
   "codemirror_mode": {
    "name": "ipython",
    "version": 3
   },
   "file_extension": ".py",
   "mimetype": "text/x-python",
   "name": "python",
   "nbconvert_exporter": "python",
   "pygments_lexer": "ipython3",
   "version": "3.6.8"
  }
 },
 "nbformat": 4,
 "nbformat_minor": 2
}
